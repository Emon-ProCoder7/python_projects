{
 "cells": [
  {
   "cell_type": "markdown",
   "metadata": {},
   "source": [
    "# A/B Testing With Pandas"
   ]
  },
  {
   "cell_type": "code",
   "execution_count": 2,
   "metadata": {},
   "outputs": [],
   "source": [
    "import pandas as pd"
   ]
  },
  {
   "cell_type": "markdown",
   "metadata": {},
   "source": [
    "## Analyzing Ad Sources"
   ]
  },
  {
   "cell_type": "code",
   "execution_count": 6,
   "metadata": {},
   "outputs": [
    {
     "name": "stdout",
     "output_type": "stream",
     "text": [
      "                                user_id utm_source           day  \\\n",
      "0  008b7c6c-7272-471e-b90e-930d548bd8d7     google  6 - Saturday   \n",
      "1  009abb94-5e14-4b6c-bb1c-4f4df7aa7557   facebook    7 - Sunday   \n",
      "2  00f5d532-ed58-4570-b6d2-768df5f41aed    twitter   2 - Tuesday   \n",
      "3  011adc64-0f44-4fd9-a0bb-f1506d2ad439     google   2 - Tuesday   \n",
      "4  012137e6-7ae7-4649-af68-205b4702169c   facebook    7 - Sunday   \n",
      "\n",
      "  ad_click_timestamp experimental_group  \n",
      "0               7:18                  A  \n",
      "1                NaN                  B  \n",
      "2                NaN                  A  \n",
      "3                NaN                  B  \n",
      "4                NaN                  B  \n"
     ]
    }
   ],
   "source": [
    "ad_clicks = pd.read_csv('ad_clicks.csv')\n",
    "\n",
    "print(ad_clicks.head())"
   ]
  },
  {
   "cell_type": "markdown",
   "metadata": {},
   "source": [
    "## Which ad platform is getting the most views ?"
   ]
  },
  {
   "cell_type": "code",
   "execution_count": 7,
   "metadata": {},
   "outputs": [
    {
     "name": "stdout",
     "output_type": "stream",
     "text": [
      "  utm_source  user_id\n",
      "0      email      255\n",
      "1   facebook      504\n",
      "2     google      680\n",
      "3    twitter      215\n"
     ]
    }
   ],
   "source": [
    "# Most Ad. Viewing Platform\n",
    "views_per_platform = ad_clicks.groupby('utm_source').user_id.count().reset_index()\n",
    "\n",
    "print(views_per_platform)"
   ]
  },
  {
   "cell_type": "markdown",
   "metadata": {},
   "source": [
    "## Click rates for each source?"
   ]
  },
  {
   "cell_type": "code",
   "execution_count": 9,
   "metadata": {},
   "outputs": [
    {
     "name": "stdout",
     "output_type": "stream",
     "text": [
      "is_click utm_source  not_clicked  clicked  percent_clicked\n",
      "0             email          175       80        31.372549\n",
      "1          facebook          324      180        35.714286\n",
      "2            google          441      239        35.147059\n",
      "3           twitter          149       66        30.697674\n"
     ]
    }
   ],
   "source": [
    "# Percentage of People clicked from Each UTM source\n",
    "ad_clicks['is_click'] = ~ad_clicks.ad_click_timestamp.isnull()\n",
    "\n",
    "\n",
    "clicks_by_source = ad_clicks.groupby(['utm_source', 'is_click']).user_id.count().reset_index()\n",
    "\n",
    "clicks_pivot = clicks_by_source.pivot(columns = 'is_click', index = 'utm_source', values = 'user_id').reset_index()\n",
    "\n",
    "clicks_pivot = clicks_pivot.rename(columns = {False: 'not_clicked', True: 'clicked'})\n",
    "\n",
    "clicks_pivot['percent_clicked'] = (clicks_pivot.clicked  / (clicks_pivot.not_clicked + clicks_pivot.clicked)) * 100\n",
    "\n",
    "print(clicks_pivot)"
   ]
  },
  {
   "cell_type": "markdown",
   "metadata": {},
   "source": [
    "## Analyzing an A/B Test\n",
    "   \n",
    "   Were approximately the same number of people shown both adds? "
   ]
  },
  {
   "cell_type": "code",
   "execution_count": 10,
   "metadata": {},
   "outputs": [
    {
     "name": "stdout",
     "output_type": "stream",
     "text": [
      "  experimental_group  user_id\n",
      "0                  A      827\n",
      "1                  B      827\n"
     ]
    }
   ],
   "source": [
    "# A/B Analytics \n",
    "\n",
    "AB_test_shown = ad_clicks.groupby('experimental_group').user_id.count().reset_index()\n",
    "\n",
    "print(AB_test_shown)"
   ]
  },
  {
   "cell_type": "markdown",
   "metadata": {},
   "source": [
    "## Total A/B test Click"
   ]
  },
  {
   "cell_type": "code",
   "execution_count": 11,
   "metadata": {},
   "outputs": [
    {
     "name": "stdout",
     "output_type": "stream",
     "text": [
      "is_click            Not Clicked  Clicked\n",
      "experimental_group                      \n",
      "A                           517      310\n",
      "B                           572      255\n"
     ]
    }
   ],
   "source": [
    "click_percentage = ad_clicks.groupby(['experimental_group', 'is_click']).user_id.count().reset_index()\n",
    "\n",
    "click_percentage_pivot = click_percentage.pivot(columns = 'is_click', index = 'experimental_group', values = 'user_id')\n",
    "\n",
    "click_percentage_pivot = click_percentage_pivot.rename(columns = {False: 'Not Clicked', True: 'Clicked'})\n",
    "\n",
    "print(click_percentage_pivot)"
   ]
  },
  {
   "cell_type": "markdown",
   "metadata": {},
   "source": [
    "## Clicks Over time across A/B"
   ]
  },
  {
   "cell_type": "markdown",
   "metadata": {},
   "source": [
    "### For A test:"
   ]
  },
  {
   "cell_type": "code",
   "execution_count": 12,
   "metadata": {},
   "outputs": [
    {
     "name": "stdout",
     "output_type": "stream",
     "text": [
      "is_click            day  click_percentage %\n",
      "0            1 - Monday           38.053097\n",
      "1           2 - Tuesday           36.134454\n",
      "2         3 - Wednesday           30.645161\n",
      "3          4 - Thursday           40.517241\n",
      "4            5 - Friday           39.843750\n",
      "5          6 - Saturday           38.135593\n",
      "6            7 - Sunday           39.449541\n"
     ]
    }
   ],
   "source": [
    "# change of clicks over time\n",
    "a_click = ad_clicks[ad_clicks.experimental_group == 'A']\n",
    "\n",
    "b_click = ad_clicks[ad_clicks.experimental_group == 'B']\n",
    "\n",
    "a_click_by_day = a_click.groupby(['day','is_click']).user_id.count().reset_index()\n",
    "\n",
    "a_click_by_day_pivot = a_click_by_day.pivot(columns = 'is_click', index = 'day', values = 'user_id').reset_index()\n",
    "\n",
    "\n",
    "a_click_by_day_pivot[\"click_percentage %\"] = a_click_by_day_pivot[True] * 100 / (a_click_by_day_pivot[False] + a_click_by_day_pivot[True])\n",
    "\n",
    "a_percentage_per_day = a_click_by_day_pivot[['day', 'click_percentage %']]\n",
    "\n",
    "print(a_percentage_per_day)"
   ]
  },
  {
   "cell_type": "markdown",
   "metadata": {},
   "source": [
    "### For B Test:"
   ]
  },
  {
   "cell_type": "code",
   "execution_count": 13,
   "metadata": {},
   "outputs": [
    {
     "name": "stdout",
     "output_type": "stream",
     "text": [
      "is_click            day  click_percentage %\n",
      "0            1 - Monday           28.318584\n",
      "1           2 - Tuesday           37.815126\n",
      "2         3 - Wednesday           28.225806\n",
      "3          4 - Thursday           25.000000\n",
      "4            5 - Friday           29.687500\n",
      "5          6 - Saturday           35.593220\n",
      "6            7 - Sunday           31.192661\n"
     ]
    }
   ],
   "source": [
    "b_click_by_day = b_click.groupby(['day','is_click']).user_id.count().reset_index()\n",
    "\n",
    "b_click_by_day_pivot = b_click_by_day.pivot(columns = 'is_click', index = 'day', values = 'user_id').reset_index()\n",
    "\n",
    "b_click_by_day_pivot[\"click_percentage %\"] = b_click_by_day_pivot[True] * 100 / (b_click_by_day_pivot[False] + b_click_by_day_pivot[True])\n",
    "\n",
    "b_percentage_per_day = b_click_by_day_pivot[['day', 'click_percentage %']]\n",
    "\n",
    "\n",
    "print(b_percentage_per_day)"
   ]
  }
 ],
 "metadata": {
  "kernelspec": {
   "display_name": "Python 3",
   "language": "python",
   "name": "python3"
  },
  "language_info": {
   "codemirror_mode": {
    "name": "ipython",
    "version": 3
   },
   "file_extension": ".py",
   "mimetype": "text/x-python",
   "name": "python",
   "nbconvert_exporter": "python",
   "pygments_lexer": "ipython3",
   "version": "3.7.6"
  }
 },
 "nbformat": 4,
 "nbformat_minor": 4
}
